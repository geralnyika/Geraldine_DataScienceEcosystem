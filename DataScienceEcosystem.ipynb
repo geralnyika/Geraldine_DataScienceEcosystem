{
 "cells": [
  {
   "cell_type": "markdown",
   "id": "a1291f9a-317e-4bd5-ad6f-7490d6989ef7",
   "metadata": {},
   "source": [
    "# Data Science Tools and Ecosystem"
   ]
  },
  {
   "cell_type": "markdown",
   "id": "ab30a629-74d4-4a0b-8de9-04cf3c68dff3",
   "metadata": {},
   "source": [
    "In this notebook, Data Science Tools and Ecosystem are summarized"
   ]
  },
  {
   "cell_type": "code",
   "execution_count": null,
   "id": "c0ab8948-5edc-46a6-83fb-7e6bd6d77b01",
   "metadata": {},
   "outputs": [],
   "source": []
  },
  {
   "cell_type": "markdown",
   "id": "f8e5fa7d-eabe-45f2-94a6-d9fc3ac444d8",
   "metadata": {},
   "source": [
    "#**Objectives:**\n",
    "\n",
    "- List popular languages for Data Science\n",
    "- Commonly used libraries used by Data Scientists\n",
    "- Data Science Tools\n",
    "- evaluating arithmetic expressions in Python\n"
   ]
  },
  {
   "cell_type": "code",
   "execution_count": null,
   "id": "02906b39-c4f6-46e7-ba6a-b04813d3dfdc",
   "metadata": {},
   "outputs": [],
   "source": []
  },
  {
   "cell_type": "markdown",
   "id": "30c29e58-a092-4e5c-a236-91cfd48e6710",
   "metadata": {},
   "source": [
    "Some of the popular languages that Data Scientists use are:\n",
    "1. Python\n",
    "2. R\n",
    "3. SQL"
   ]
  },
  {
   "cell_type": "code",
   "execution_count": null,
   "id": "7d1e2290-d3e2-4232-b060-4c552b365ecd",
   "metadata": {},
   "outputs": [],
   "source": []
  },
  {
   "cell_type": "markdown",
   "id": "3aa019d7-b335-4269-9dee-faaede2b7002",
   "metadata": {},
   "source": [
    "Some of the commonly used libraries used by Data Scientists include:\n",
    "\n",
    "1. Pandas\n",
    "2. NumPy \n",
    "3. SciPy"
   ]
  },
  {
   "cell_type": "code",
   "execution_count": null,
   "id": "55b98080-2e80-4132-a6b1-387fb45a59cb",
   "metadata": {},
   "outputs": [],
   "source": []
  },
  {
   "cell_type": "markdown",
   "id": "f2687ed6-38b2-4252-afb2-f8a9996b5924",
   "metadata": {},
   "source": [
    "| Data Science Tools                    |\n",
    "-----------------------------------------\n",
    "| IDEs                                  |\n",
    "| Programming Languages                 |\n",
    "| Data Visualization                    |                                                                \n",
    "-----------------------------------------"
   ]
  },
  {
   "cell_type": "code",
   "execution_count": null,
   "id": "1cf70fd7-ee9d-401b-8784-484ac39329b9",
   "metadata": {},
   "outputs": [],
   "source": []
  },
  {
   "cell_type": "markdown",
   "id": "7743bd33-6a97-460d-a6ad-84a2c1ce6955",
   "metadata": {},
   "source": [
    "### Below are a few examples of evaluating arithmetic expressions in Python"
   ]
  },
  {
   "cell_type": "code",
   "execution_count": 1,
   "id": "bccb9ef0-efe6-40f7-9f51-eb013e7430df",
   "metadata": {},
   "outputs": [
    {
     "data": {
      "text/plain": [
       "17"
      ]
     },
     "execution_count": 1,
     "metadata": {},
     "output_type": "execute_result"
    }
   ],
   "source": [
    "#This a simple arithmetic expression to mutiply then add integers\n",
    "(3*4)+5"
   ]
  },
  {
   "cell_type": "code",
   "execution_count": 2,
   "id": "ebd60467-76c3-49bd-ab5f-50a7358dff9c",
   "metadata": {},
   "outputs": [
    {
     "data": {
      "text/plain": [
       "3.3333333333333335"
      ]
     },
     "execution_count": 2,
     "metadata": {},
     "output_type": "execute_result"
    }
   ],
   "source": [
    "#This will convert 200 minutes to hours by diving by 60\n",
    "200/60"
   ]
  },
  {
   "cell_type": "code",
   "execution_count": null,
   "id": "5d1ca8c1-c5b8-40e1-9c3e-9282d5d0e58a",
   "metadata": {},
   "outputs": [],
   "source": []
  },
  {
   "cell_type": "markdown",
   "id": "4a7eb30d-bbd5-409b-9c45-f70702eb70a2",
   "metadata": {},
   "source": [
    "## Author\n",
    "Geraldine .T. Nyika"
   ]
  }
 ],
 "metadata": {
  "kernelspec": {
   "display_name": "Python 3 (ipykernel)",
   "language": "python",
   "name": "python3"
  },
  "language_info": {
   "codemirror_mode": {
    "name": "ipython",
    "version": 3
   },
   "file_extension": ".py",
   "mimetype": "text/x-python",
   "name": "python",
   "nbconvert_exporter": "python",
   "pygments_lexer": "ipython3",
   "version": "3.12.3"
  }
 },
 "nbformat": 4,
 "nbformat_minor": 5
}
